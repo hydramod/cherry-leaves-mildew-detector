{
 "cells": [
  {
   "cell_type": "markdown",
   "metadata": {},
   "source": [
    "# Data Collection: Retrieve Data from Kaggle\n",
    "\n",
    "## Objectives\n",
    "\n",
    "* Retrieve data from Kaggle and preprocess it for subsequent steps.\n",
    "\n",
    "## Inputs\n",
    "\n",
    "* Kaggle JSON file - authentication token.\n",
    "\n",
    "## Outputs\n",
    "\n",
    "* Generate Dataset: `inputs/datasets/cherry_leaves_dataset`\n",
    "\n",
    "## Additional Comments | Insights | Conclusions\n",
    "\n",
    "* No further comments provided.\n",
    "---"
   ]
  },
  {
   "cell_type": "markdown",
   "metadata": {},
   "source": [
    "# Import packages"
   ]
  },
  {
   "cell_type": "code",
   "execution_count": 7,
   "metadata": {},
   "outputs": [
    {
     "name": "stdout",
     "output_type": "stream",
     "text": [
      "Collecting absl-py==2.0.0 (from -r C:/Users/2295883/Downloads/cherry-leaves-mildew-detector-project-5-main/requirements.txt (line 1))\n",
      "  Using cached absl_py-2.0.0-py3-none-any.whl.metadata (2.3 kB)\n",
      "Requirement already satisfied: altair==5.2.0 in c:\\users\\2295883\\appdata\\local\\programs\\python\\python311\\lib\\site-packages (from -r C:/Users/2295883/Downloads/cherry-leaves-mildew-detector-project-5-main/requirements.txt (line 2)) (5.2.0)\n",
      "Requirement already satisfied: asttokens==2.4.1 in c:\\users\\2295883\\appdata\\roaming\\python\\python311\\site-packages (from -r C:/Users/2295883/Downloads/cherry-leaves-mildew-detector-project-5-main/requirements.txt (line 3)) (2.4.1)\n",
      "Collecting astunparse==1.6.3 (from -r C:/Users/2295883/Downloads/cherry-leaves-mildew-detector-project-5-main/requirements.txt (line 4))\n",
      "  Using cached astunparse-1.6.3-py2.py3-none-any.whl (12 kB)\n",
      "Requirement already satisfied: attrs==23.2.0 in c:\\users\\2295883\\appdata\\local\\programs\\python\\python311\\lib\\site-packages (from -r C:/Users/2295883/Downloads/cherry-leaves-mildew-detector-project-5-main/requirements.txt (line 5)) (23.2.0)\n",
      "Collecting bleach==6.1.0 (from -r C:/Users/2295883/Downloads/cherry-leaves-mildew-detector-project-5-main/requirements.txt (line 6))\n",
      "  Using cached bleach-6.1.0-py3-none-any.whl.metadata (30 kB)\n",
      "Requirement already satisfied: blinker==1.7.0 in c:\\users\\2295883\\appdata\\local\\programs\\python\\python311\\lib\\site-packages (from -r C:/Users/2295883/Downloads/cherry-leaves-mildew-detector-project-5-main/requirements.txt (line 7)) (1.7.0)\n",
      "Requirement already satisfied: cachetools==5.3.2 in c:\\users\\2295883\\appdata\\local\\programs\\python\\python311\\lib\\site-packages (from -r C:/Users/2295883/Downloads/cherry-leaves-mildew-detector-project-5-main/requirements.txt (line 8)) (5.3.2)\n",
      "Requirement already satisfied: certifi==2023.11.17 in c:\\users\\2295883\\appdata\\local\\programs\\python\\python311\\lib\\site-packages (from -r C:/Users/2295883/Downloads/cherry-leaves-mildew-detector-project-5-main/requirements.txt (line 9)) (2023.11.17)\n",
      "Requirement already satisfied: charset-normalizer==3.3.2 in c:\\users\\2295883\\appdata\\local\\programs\\python\\python311\\lib\\site-packages (from -r C:/Users/2295883/Downloads/cherry-leaves-mildew-detector-project-5-main/requirements.txt (line 10)) (3.3.2)\n",
      "Requirement already satisfied: click==8.1.7 in c:\\users\\2295883\\appdata\\local\\programs\\python\\python311\\lib\\site-packages (from -r C:/Users/2295883/Downloads/cherry-leaves-mildew-detector-project-5-main/requirements.txt (line 11)) (8.1.7)\n",
      "Requirement already satisfied: colorama==0.4.6 in c:\\users\\2295883\\appdata\\local\\programs\\python\\python311\\lib\\site-packages (from -r C:/Users/2295883/Downloads/cherry-leaves-mildew-detector-project-5-main/requirements.txt (line 12)) (0.4.6)\n",
      "Requirement already satisfied: comm==0.2.1 in c:\\users\\2295883\\appdata\\roaming\\python\\python311\\site-packages (from -r C:/Users/2295883/Downloads/cherry-leaves-mildew-detector-project-5-main/requirements.txt (line 13)) (0.2.1)\n",
      "Collecting contourpy==1.2.0 (from -r C:/Users/2295883/Downloads/cherry-leaves-mildew-detector-project-5-main/requirements.txt (line 14))\n",
      "  Using cached contourpy-1.2.0-cp311-cp311-win_amd64.whl.metadata (5.8 kB)\n",
      "Collecting cycler==0.12.1 (from -r C:/Users/2295883/Downloads/cherry-leaves-mildew-detector-project-5-main/requirements.txt (line 15))\n",
      "  Using cached cycler-0.12.1-py3-none-any.whl.metadata (3.8 kB)\n",
      "Requirement already satisfied: debugpy==1.8.0 in c:\\users\\2295883\\appdata\\roaming\\python\\python311\\site-packages (from -r C:/Users/2295883/Downloads/cherry-leaves-mildew-detector-project-5-main/requirements.txt (line 16)) (1.8.0)\n",
      "Requirement already satisfied: decorator==5.1.1 in c:\\users\\2295883\\appdata\\roaming\\python\\python311\\site-packages (from -r C:/Users/2295883/Downloads/cherry-leaves-mildew-detector-project-5-main/requirements.txt (line 17)) (5.1.1)\n",
      "Requirement already satisfied: executing==2.0.1 in c:\\users\\2295883\\appdata\\roaming\\python\\python311\\site-packages (from -r C:/Users/2295883/Downloads/cherry-leaves-mildew-detector-project-5-main/requirements.txt (line 18)) (2.0.1)\n",
      "Collecting flatbuffers==23.5.26 (from -r C:/Users/2295883/Downloads/cherry-leaves-mildew-detector-project-5-main/requirements.txt (line 19))\n",
      "  Using cached flatbuffers-23.5.26-py2.py3-none-any.whl.metadata (850 bytes)\n",
      "Collecting fonttools==4.47.0 (from -r C:/Users/2295883/Downloads/cherry-leaves-mildew-detector-project-5-main/requirements.txt (line 20))\n",
      "  Using cached fonttools-4.47.0-cp311-cp311-win_amd64.whl.metadata (160 kB)\n",
      "Collecting gast==0.5.4 (from -r C:/Users/2295883/Downloads/cherry-leaves-mildew-detector-project-5-main/requirements.txt (line 21))\n",
      "  Using cached gast-0.5.4-py3-none-any.whl (19 kB)\n",
      "Requirement already satisfied: gitdb==4.0.11 in c:\\users\\2295883\\appdata\\local\\programs\\python\\python311\\lib\\site-packages (from -r C:/Users/2295883/Downloads/cherry-leaves-mildew-detector-project-5-main/requirements.txt (line 22)) (4.0.11)\n",
      "Requirement already satisfied: GitPython==3.1.40 in c:\\users\\2295883\\appdata\\local\\programs\\python\\python311\\lib\\site-packages (from -r C:/Users/2295883/Downloads/cherry-leaves-mildew-detector-project-5-main/requirements.txt (line 23)) (3.1.40)\n",
      "Collecting google-auth==2.26.1 (from -r C:/Users/2295883/Downloads/cherry-leaves-mildew-detector-project-5-main/requirements.txt (line 24))\n",
      "  Using cached google_auth-2.26.1-py2.py3-none-any.whl.metadata (4.7 kB)\n",
      "Collecting google-auth-oauthlib==1.2.0 (from -r C:/Users/2295883/Downloads/cherry-leaves-mildew-detector-project-5-main/requirements.txt (line 25))\n",
      "  Using cached google_auth_oauthlib-1.2.0-py2.py3-none-any.whl.metadata (2.7 kB)\n",
      "Collecting google-pasta==0.2.0 (from -r C:/Users/2295883/Downloads/cherry-leaves-mildew-detector-project-5-main/requirements.txt (line 26))\n",
      "  Using cached google_pasta-0.2.0-py3-none-any.whl (57 kB)\n",
      "Collecting grpcio==1.60.0 (from -r C:/Users/2295883/Downloads/cherry-leaves-mildew-detector-project-5-main/requirements.txt (line 27))\n",
      "  Using cached grpcio-1.60.0-cp311-cp311-win_amd64.whl.metadata (4.2 kB)\n",
      "Collecting h5py==3.10.0 (from -r C:/Users/2295883/Downloads/cherry-leaves-mildew-detector-project-5-main/requirements.txt (line 28))\n",
      "  Using cached h5py-3.10.0-cp311-cp311-win_amd64.whl.metadata (2.5 kB)\n",
      "Requirement already satisfied: idna==3.6 in c:\\users\\2295883\\appdata\\local\\programs\\python\\python311\\lib\\site-packages (from -r C:/Users/2295883/Downloads/cherry-leaves-mildew-detector-project-5-main/requirements.txt (line 29)) (3.6)\n",
      "Requirement already satisfied: importlib-metadata==6.11.0 in c:\\users\\2295883\\appdata\\local\\programs\\python\\python311\\lib\\site-packages (from -r C:/Users/2295883/Downloads/cherry-leaves-mildew-detector-project-5-main/requirements.txt (line 30)) (6.11.0)\n",
      "Requirement already satisfied: ipykernel==6.28.0 in c:\\users\\2295883\\appdata\\roaming\\python\\python311\\site-packages (from -r C:/Users/2295883/Downloads/cherry-leaves-mildew-detector-project-5-main/requirements.txt (line 31)) (6.28.0)\n",
      "Collecting ipython==8.19.0 (from -r C:/Users/2295883/Downloads/cherry-leaves-mildew-detector-project-5-main/requirements.txt (line 32))\n",
      "  Using cached ipython-8.19.0-py3-none-any.whl.metadata (5.9 kB)\n",
      "Requirement already satisfied: jedi==0.19.1 in c:\\users\\2295883\\appdata\\roaming\\python\\python311\\site-packages (from -r C:/Users/2295883/Downloads/cherry-leaves-mildew-detector-project-5-main/requirements.txt (line 33)) (0.19.1)\n",
      "Requirement already satisfied: Jinja2==3.1.2 in c:\\users\\2295883\\appdata\\local\\programs\\python\\python311\\lib\\site-packages (from -r C:/Users/2295883/Downloads/cherry-leaves-mildew-detector-project-5-main/requirements.txt (line 34)) (3.1.2)\n",
      "Collecting joblib==1.3.2 (from -r C:/Users/2295883/Downloads/cherry-leaves-mildew-detector-project-5-main/requirements.txt (line 35))\n",
      "  Using cached joblib-1.3.2-py3-none-any.whl.metadata (5.4 kB)\n",
      "Requirement already satisfied: jsonschema==4.20.0 in c:\\users\\2295883\\appdata\\local\\programs\\python\\python311\\lib\\site-packages (from -r C:/Users/2295883/Downloads/cherry-leaves-mildew-detector-project-5-main/requirements.txt (line 36)) (4.20.0)\n",
      "Requirement already satisfied: jsonschema-specifications==2023.12.1 in c:\\users\\2295883\\appdata\\local\\programs\\python\\python311\\lib\\site-packages (from -r C:/Users/2295883/Downloads/cherry-leaves-mildew-detector-project-5-main/requirements.txt (line 37)) (2023.12.1)\n",
      "Requirement already satisfied: jupyter_client==8.6.0 in c:\\users\\2295883\\appdata\\roaming\\python\\python311\\site-packages (from -r C:/Users/2295883/Downloads/cherry-leaves-mildew-detector-project-5-main/requirements.txt (line 38)) (8.6.0)\n",
      "Collecting jupyter_core==5.7.0 (from -r C:/Users/2295883/Downloads/cherry-leaves-mildew-detector-project-5-main/requirements.txt (line 39))\n",
      "  Using cached jupyter_core-5.7.0-py3-none-any.whl.metadata (3.4 kB)\n",
      "Collecting kaggle==1.6.0 (from -r C:/Users/2295883/Downloads/cherry-leaves-mildew-detector-project-5-main/requirements.txt (line 40))\n",
      "  Using cached kaggle-1.6.0-py3-none-any.whl\n",
      "Collecting keras==2.15.0 (from -r C:/Users/2295883/Downloads/cherry-leaves-mildew-detector-project-5-main/requirements.txt (line 41))\n",
      "  Using cached keras-2.15.0-py3-none-any.whl.metadata (2.4 kB)\n",
      "Collecting kiwisolver==1.4.5 (from -r C:/Users/2295883/Downloads/cherry-leaves-mildew-detector-project-5-main/requirements.txt (line 42))\n",
      "  Using cached kiwisolver-1.4.5-cp311-cp311-win_amd64.whl.metadata (6.5 kB)\n",
      "Collecting libclang==16.0.6 (from -r C:/Users/2295883/Downloads/cherry-leaves-mildew-detector-project-5-main/requirements.txt (line 43))\n",
      "  Using cached libclang-16.0.6-py2.py3-none-win_amd64.whl.metadata (5.3 kB)\n",
      "Collecting Markdown==3.5.1 (from -r C:/Users/2295883/Downloads/cherry-leaves-mildew-detector-project-5-main/requirements.txt (line 44))\n",
      "  Using cached Markdown-3.5.1-py3-none-any.whl.metadata (7.1 kB)\n",
      "Requirement already satisfied: markdown-it-py==3.0.0 in c:\\users\\2295883\\appdata\\local\\programs\\python\\python311\\lib\\site-packages (from -r C:/Users/2295883/Downloads/cherry-leaves-mildew-detector-project-5-main/requirements.txt (line 45)) (3.0.0)\n",
      "Requirement already satisfied: MarkupSafe==2.1.3 in c:\\users\\2295883\\appdata\\local\\programs\\python\\python311\\lib\\site-packages (from -r C:/Users/2295883/Downloads/cherry-leaves-mildew-detector-project-5-main/requirements.txt (line 46)) (2.1.3)\n",
      "Collecting matplotlib==3.8.2 (from -r C:/Users/2295883/Downloads/cherry-leaves-mildew-detector-project-5-main/requirements.txt (line 47))\n",
      "  Using cached matplotlib-3.8.2-cp311-cp311-win_amd64.whl.metadata (5.9 kB)\n",
      "Requirement already satisfied: matplotlib-inline==0.1.6 in c:\\users\\2295883\\appdata\\roaming\\python\\python311\\site-packages (from -r C:/Users/2295883/Downloads/cherry-leaves-mildew-detector-project-5-main/requirements.txt (line 48)) (0.1.6)\n",
      "Requirement already satisfied: mdurl==0.1.2 in c:\\users\\2295883\\appdata\\local\\programs\\python\\python311\\lib\\site-packages (from -r C:/Users/2295883/Downloads/cherry-leaves-mildew-detector-project-5-main/requirements.txt (line 49)) (0.1.2)\n",
      "Collecting ml-dtypes==0.2.0 (from -r C:/Users/2295883/Downloads/cherry-leaves-mildew-detector-project-5-main/requirements.txt (line 50))\n",
      "  Using cached ml_dtypes-0.2.0-cp311-cp311-win_amd64.whl.metadata (20 kB)\n",
      "Requirement already satisfied: nest-asyncio==1.5.8 in c:\\users\\2295883\\appdata\\roaming\\python\\python311\\site-packages (from -r C:/Users/2295883/Downloads/cherry-leaves-mildew-detector-project-5-main/requirements.txt (line 51)) (1.5.8)\n",
      "Requirement already satisfied: numpy==1.26.3 in c:\\users\\2295883\\appdata\\local\\programs\\python\\python311\\lib\\site-packages (from -r C:/Users/2295883/Downloads/cherry-leaves-mildew-detector-project-5-main/requirements.txt (line 52)) (1.26.3)\n",
      "Collecting oauthlib==3.2.2 (from -r C:/Users/2295883/Downloads/cherry-leaves-mildew-detector-project-5-main/requirements.txt (line 53))\n",
      "  Using cached oauthlib-3.2.2-py3-none-any.whl (151 kB)\n",
      "Collecting opt-einsum==3.3.0 (from -r C:/Users/2295883/Downloads/cherry-leaves-mildew-detector-project-5-main/requirements.txt (line 54))\n",
      "  Using cached opt_einsum-3.3.0-py3-none-any.whl (65 kB)\n",
      "Requirement already satisfied: packaging==23.2 in c:\\users\\2295883\\appdata\\local\\programs\\python\\python311\\lib\\site-packages (from -r C:/Users/2295883/Downloads/cherry-leaves-mildew-detector-project-5-main/requirements.txt (line 55)) (23.2)\n",
      "Requirement already satisfied: pandas==2.1.4 in c:\\users\\2295883\\appdata\\local\\programs\\python\\python311\\lib\\site-packages (from -r C:/Users/2295883/Downloads/cherry-leaves-mildew-detector-project-5-main/requirements.txt (line 56)) (2.1.4)\n",
      "Requirement already satisfied: parso==0.8.3 in c:\\users\\2295883\\appdata\\roaming\\python\\python311\\site-packages (from -r C:/Users/2295883/Downloads/cherry-leaves-mildew-detector-project-5-main/requirements.txt (line 57)) (0.8.3)\n",
      "Requirement already satisfied: pillow==10.2.0 in c:\\users\\2295883\\appdata\\local\\programs\\python\\python311\\lib\\site-packages (from -r C:/Users/2295883/Downloads/cherry-leaves-mildew-detector-project-5-main/requirements.txt (line 58)) (10.2.0)\n",
      "Requirement already satisfied: platformdirs==4.1.0 in c:\\users\\2295883\\appdata\\local\\programs\\python\\python311\\lib\\site-packages (from -r C:/Users/2295883/Downloads/cherry-leaves-mildew-detector-project-5-main/requirements.txt (line 59)) (4.1.0)\n",
      "Collecting plotly==5.18.0 (from -r C:/Users/2295883/Downloads/cherry-leaves-mildew-detector-project-5-main/requirements.txt (line 60))\n",
      "  Using cached plotly-5.18.0-py3-none-any.whl.metadata (7.0 kB)\n",
      "Requirement already satisfied: prompt-toolkit==3.0.43 in c:\\users\\2295883\\appdata\\roaming\\python\\python311\\site-packages (from -r C:/Users/2295883/Downloads/cherry-leaves-mildew-detector-project-5-main/requirements.txt (line 61)) (3.0.43)\n",
      "Collecting protobuf==4.23.4 (from -r C:/Users/2295883/Downloads/cherry-leaves-mildew-detector-project-5-main/requirements.txt (line 62))\n",
      "  Using cached protobuf-4.23.4-cp310-abi3-win_amd64.whl.metadata (540 bytes)\n",
      "Requirement already satisfied: psutil==5.9.7 in c:\\users\\2295883\\appdata\\roaming\\python\\python311\\site-packages (from -r C:/Users/2295883/Downloads/cherry-leaves-mildew-detector-project-5-main/requirements.txt (line 63)) (5.9.7)\n",
      "Requirement already satisfied: pure-eval==0.2.2 in c:\\users\\2295883\\appdata\\roaming\\python\\python311\\site-packages (from -r C:/Users/2295883/Downloads/cherry-leaves-mildew-detector-project-5-main/requirements.txt (line 64)) (0.2.2)\n",
      "Requirement already satisfied: pyarrow==14.0.2 in c:\\users\\2295883\\appdata\\local\\programs\\python\\python311\\lib\\site-packages (from -r C:/Users/2295883/Downloads/cherry-leaves-mildew-detector-project-5-main/requirements.txt (line 65)) (14.0.2)\n",
      "Collecting pyasn1==0.5.1 (from -r C:/Users/2295883/Downloads/cherry-leaves-mildew-detector-project-5-main/requirements.txt (line 66))\n",
      "  Using cached pyasn1-0.5.1-py2.py3-none-any.whl.metadata (8.6 kB)\n",
      "Collecting pyasn1-modules==0.3.0 (from -r C:/Users/2295883/Downloads/cherry-leaves-mildew-detector-project-5-main/requirements.txt (line 67))\n",
      "  Using cached pyasn1_modules-0.3.0-py2.py3-none-any.whl (181 kB)\n",
      "Requirement already satisfied: pydeck==0.8.1b0 in c:\\users\\2295883\\appdata\\local\\programs\\python\\python311\\lib\\site-packages (from -r C:/Users/2295883/Downloads/cherry-leaves-mildew-detector-project-5-main/requirements.txt (line 68)) (0.8.1b0)\n",
      "Requirement already satisfied: Pygments==2.17.2 in c:\\users\\2295883\\appdata\\local\\programs\\python\\python311\\lib\\site-packages (from -r C:/Users/2295883/Downloads/cherry-leaves-mildew-detector-project-5-main/requirements.txt (line 69)) (2.17.2)\n",
      "Collecting pyparsing==3.1.1 (from -r C:/Users/2295883/Downloads/cherry-leaves-mildew-detector-project-5-main/requirements.txt (line 70))\n",
      "  Using cached pyparsing-3.1.1-py3-none-any.whl.metadata (5.1 kB)\n",
      "Requirement already satisfied: python-dateutil==2.8.2 in c:\\users\\2295883\\appdata\\local\\programs\\python\\python311\\lib\\site-packages (from -r C:/Users/2295883/Downloads/cherry-leaves-mildew-detector-project-5-main/requirements.txt (line 71)) (2.8.2)\n",
      "Collecting python-slugify==8.0.1 (from -r C:/Users/2295883/Downloads/cherry-leaves-mildew-detector-project-5-main/requirements.txt (line 72))\n",
      "  Using cached python_slugify-8.0.1-py2.py3-none-any.whl (9.7 kB)\n",
      "Requirement already satisfied: pytz==2023.3.post1 in c:\\users\\2295883\\appdata\\local\\programs\\python\\python311\\lib\\site-packages (from -r C:/Users/2295883/Downloads/cherry-leaves-mildew-detector-project-5-main/requirements.txt (line 73)) (2023.3.post1)\n",
      "Requirement already satisfied: pywin32==306 in c:\\users\\2295883\\appdata\\roaming\\python\\python311\\site-packages (from -r C:/Users/2295883/Downloads/cherry-leaves-mildew-detector-project-5-main/requirements.txt (line 74)) (306)\n",
      "Requirement already satisfied: pyzmq==25.1.2 in c:\\users\\2295883\\appdata\\roaming\\python\\python311\\site-packages (from -r C:/Users/2295883/Downloads/cherry-leaves-mildew-detector-project-5-main/requirements.txt (line 75)) (25.1.2)\n",
      "Requirement already satisfied: referencing==0.32.1 in c:\\users\\2295883\\appdata\\local\\programs\\python\\python311\\lib\\site-packages (from -r C:/Users/2295883/Downloads/cherry-leaves-mildew-detector-project-5-main/requirements.txt (line 76)) (0.32.1)\n",
      "Requirement already satisfied: requests==2.31.0 in c:\\users\\2295883\\appdata\\local\\programs\\python\\python311\\lib\\site-packages (from -r C:/Users/2295883/Downloads/cherry-leaves-mildew-detector-project-5-main/requirements.txt (line 77)) (2.31.0)\n",
      "Collecting requests-oauthlib==1.3.1 (from -r C:/Users/2295883/Downloads/cherry-leaves-mildew-detector-project-5-main/requirements.txt (line 78))\n",
      "  Using cached requests_oauthlib-1.3.1-py2.py3-none-any.whl (23 kB)\n",
      "Requirement already satisfied: rich==13.7.0 in c:\\users\\2295883\\appdata\\local\\programs\\python\\python311\\lib\\site-packages (from -r C:/Users/2295883/Downloads/cherry-leaves-mildew-detector-project-5-main/requirements.txt (line 79)) (13.7.0)\n",
      "Requirement already satisfied: rpds-py==0.16.2 in c:\\users\\2295883\\appdata\\local\\programs\\python\\python311\\lib\\site-packages (from -r C:/Users/2295883/Downloads/cherry-leaves-mildew-detector-project-5-main/requirements.txt (line 80)) (0.16.2)\n",
      "Collecting rsa==4.9 (from -r C:/Users/2295883/Downloads/cherry-leaves-mildew-detector-project-5-main/requirements.txt (line 81))\n",
      "  Using cached rsa-4.9-py3-none-any.whl (34 kB)\n",
      "Collecting scikit-learn==1.3.2 (from -r C:/Users/2295883/Downloads/cherry-leaves-mildew-detector-project-5-main/requirements.txt (line 82))\n",
      "  Using cached scikit_learn-1.3.2-cp311-cp311-win_amd64.whl.metadata (11 kB)\n",
      "Collecting scipy==1.11.4 (from -r C:/Users/2295883/Downloads/cherry-leaves-mildew-detector-project-5-main/requirements.txt (line 83))\n",
      "  Using cached scipy-1.11.4-cp311-cp311-win_amd64.whl.metadata (60 kB)\n",
      "Collecting seaborn==0.13.1 (from -r C:/Users/2295883/Downloads/cherry-leaves-mildew-detector-project-5-main/requirements.txt (line 84))\n",
      "  Using cached seaborn-0.13.1-py3-none-any.whl.metadata (5.4 kB)\n",
      "Requirement already satisfied: six==1.16.0 in c:\\users\\2295883\\appdata\\local\\programs\\python\\python311\\lib\\site-packages (from -r C:/Users/2295883/Downloads/cherry-leaves-mildew-detector-project-5-main/requirements.txt (line 85)) (1.16.0)\n",
      "Requirement already satisfied: smmap==5.0.1 in c:\\users\\2295883\\appdata\\local\\programs\\python\\python311\\lib\\site-packages (from -r C:/Users/2295883/Downloads/cherry-leaves-mildew-detector-project-5-main/requirements.txt (line 86)) (5.0.1)\n",
      "Requirement already satisfied: stack-data==0.6.3 in c:\\users\\2295883\\appdata\\roaming\\python\\python311\\site-packages (from -r C:/Users/2295883/Downloads/cherry-leaves-mildew-detector-project-5-main/requirements.txt (line 87)) (0.6.3)\n",
      "Requirement already satisfied: streamlit==1.29.0 in c:\\users\\2295883\\appdata\\local\\programs\\python\\python311\\lib\\site-packages (from -r C:/Users/2295883/Downloads/cherry-leaves-mildew-detector-project-5-main/requirements.txt (line 88)) (1.29.0)\n",
      "Requirement already satisfied: tenacity==8.2.3 in c:\\users\\2295883\\appdata\\local\\programs\\python\\python311\\lib\\site-packages (from -r C:/Users/2295883/Downloads/cherry-leaves-mildew-detector-project-5-main/requirements.txt (line 89)) (8.2.3)\n",
      "Collecting tensorboard==2.15.1 (from -r C:/Users/2295883/Downloads/cherry-leaves-mildew-detector-project-5-main/requirements.txt (line 90))\n",
      "  Using cached tensorboard-2.15.1-py3-none-any.whl.metadata (1.7 kB)\n",
      "Collecting tensorboard-data-server==0.7.2 (from -r C:/Users/2295883/Downloads/cherry-leaves-mildew-detector-project-5-main/requirements.txt (line 91))\n",
      "  Using cached tensorboard_data_server-0.7.2-py3-none-any.whl.metadata (1.1 kB)\n",
      "Collecting tensorflow==2.15.0 (from -r C:/Users/2295883/Downloads/cherry-leaves-mildew-detector-project-5-main/requirements.txt (line 92))\n",
      "  Using cached tensorflow-2.15.0-cp311-cp311-win_amd64.whl.metadata (3.6 kB)\n",
      "Collecting tensorflow-estimator==2.15.0 (from -r C:/Users/2295883/Downloads/cherry-leaves-mildew-detector-project-5-main/requirements.txt (line 93))\n",
      "  Using cached tensorflow_estimator-2.15.0-py2.py3-none-any.whl.metadata (1.3 kB)\n",
      "Collecting tensorflow-intel==2.15.0 (from -r C:/Users/2295883/Downloads/cherry-leaves-mildew-detector-project-5-main/requirements.txt (line 94))\n",
      "  Using cached tensorflow_intel-2.15.0-cp311-cp311-win_amd64.whl.metadata (5.1 kB)\n",
      "Collecting tensorflow-io-gcs-filesystem==0.31.0 (from -r C:/Users/2295883/Downloads/cherry-leaves-mildew-detector-project-5-main/requirements.txt (line 95))\n",
      "  Using cached tensorflow_io_gcs_filesystem-0.31.0-cp311-cp311-win_amd64.whl (1.5 MB)\n",
      "Collecting termcolor==2.4.0 (from -r C:/Users/2295883/Downloads/cherry-leaves-mildew-detector-project-5-main/requirements.txt (line 96))\n",
      "  Using cached termcolor-2.4.0-py3-none-any.whl.metadata (6.1 kB)\n",
      "Collecting text-unidecode==1.3 (from -r C:/Users/2295883/Downloads/cherry-leaves-mildew-detector-project-5-main/requirements.txt (line 97))\n",
      "  Using cached text_unidecode-1.3-py2.py3-none-any.whl (78 kB)\n",
      "Collecting threadpoolctl==3.2.0 (from -r C:/Users/2295883/Downloads/cherry-leaves-mildew-detector-project-5-main/requirements.txt (line 98))\n",
      "  Using cached threadpoolctl-3.2.0-py3-none-any.whl.metadata (10.0 kB)\n",
      "Requirement already satisfied: toml==0.10.2 in c:\\users\\2295883\\appdata\\local\\programs\\python\\python311\\lib\\site-packages (from -r C:/Users/2295883/Downloads/cherry-leaves-mildew-detector-project-5-main/requirements.txt (line 99)) (0.10.2)\n",
      "Requirement already satisfied: toolz==0.12.0 in c:\\users\\2295883\\appdata\\local\\programs\\python\\python311\\lib\\site-packages (from -r C:/Users/2295883/Downloads/cherry-leaves-mildew-detector-project-5-main/requirements.txt (line 100)) (0.12.0)\n",
      "Requirement already satisfied: tornado==6.4 in c:\\users\\2295883\\appdata\\local\\programs\\python\\python311\\lib\\site-packages (from -r C:/Users/2295883/Downloads/cherry-leaves-mildew-detector-project-5-main/requirements.txt (line 101)) (6.4)\n",
      "Collecting tqdm==4.66.1 (from -r C:/Users/2295883/Downloads/cherry-leaves-mildew-detector-project-5-main/requirements.txt (line 102))\n",
      "  Using cached tqdm-4.66.1-py3-none-any.whl.metadata (57 kB)\n",
      "Requirement already satisfied: traitlets==5.14.1 in c:\\users\\2295883\\appdata\\roaming\\python\\python311\\site-packages (from -r C:/Users/2295883/Downloads/cherry-leaves-mildew-detector-project-5-main/requirements.txt (line 103)) (5.14.1)\n",
      "Requirement already satisfied: typing_extensions==4.9.0 in c:\\users\\2295883\\appdata\\local\\programs\\python\\python311\\lib\\site-packages (from -r C:/Users/2295883/Downloads/cherry-leaves-mildew-detector-project-5-main/requirements.txt (line 104)) (4.9.0)\n",
      "Requirement already satisfied: tzdata==2023.4 in c:\\users\\2295883\\appdata\\local\\programs\\python\\python311\\lib\\site-packages (from -r C:/Users/2295883/Downloads/cherry-leaves-mildew-detector-project-5-main/requirements.txt (line 105)) (2023.4)\n",
      "Requirement already satisfied: tzlocal==5.2 in c:\\users\\2295883\\appdata\\local\\programs\\python\\python311\\lib\\site-packages (from -r C:/Users/2295883/Downloads/cherry-leaves-mildew-detector-project-5-main/requirements.txt (line 106)) (5.2)\n",
      "Requirement already satisfied: urllib3==2.1.0 in c:\\users\\2295883\\appdata\\local\\programs\\python\\python311\\lib\\site-packages (from -r C:/Users/2295883/Downloads/cherry-leaves-mildew-detector-project-5-main/requirements.txt (line 107)) (2.1.0)\n",
      "Requirement already satisfied: validators==0.22.0 in c:\\users\\2295883\\appdata\\local\\programs\\python\\python311\\lib\\site-packages (from -r C:/Users/2295883/Downloads/cherry-leaves-mildew-detector-project-5-main/requirements.txt (line 108)) (0.22.0)\n",
      "Requirement already satisfied: watchdog==3.0.0 in c:\\users\\2295883\\appdata\\local\\programs\\python\\python311\\lib\\site-packages (from -r C:/Users/2295883/Downloads/cherry-leaves-mildew-detector-project-5-main/requirements.txt (line 109)) (3.0.0)\n",
      "Requirement already satisfied: wcwidth==0.2.13 in c:\\users\\2295883\\appdata\\roaming\\python\\python311\\site-packages (from -r C:/Users/2295883/Downloads/cherry-leaves-mildew-detector-project-5-main/requirements.txt (line 110)) (0.2.13)\n",
      "Collecting webencodings==0.5.1 (from -r C:/Users/2295883/Downloads/cherry-leaves-mildew-detector-project-5-main/requirements.txt (line 111))\n",
      "  Using cached webencodings-0.5.1-py2.py3-none-any.whl (11 kB)\n",
      "Collecting Werkzeug==3.0.1 (from -r C:/Users/2295883/Downloads/cherry-leaves-mildew-detector-project-5-main/requirements.txt (line 112))\n",
      "  Using cached werkzeug-3.0.1-py3-none-any.whl.metadata (4.1 kB)\n",
      "Collecting wrapt==1.14.1 (from -r C:/Users/2295883/Downloads/cherry-leaves-mildew-detector-project-5-main/requirements.txt (line 113))\n",
      "  Using cached wrapt-1.14.1-cp311-cp311-win_amd64.whl.metadata (6.9 kB)\n",
      "Requirement already satisfied: zipp==3.17.0 in c:\\users\\2295883\\appdata\\local\\programs\\python\\python311\\lib\\site-packages (from -r C:/Users/2295883/Downloads/cherry-leaves-mildew-detector-project-5-main/requirements.txt (line 114)) (3.17.0)\n",
      "Collecting wheel<1.0,>=0.23.0 (from astunparse==1.6.3->-r C:/Users/2295883/Downloads/cherry-leaves-mildew-detector-project-5-main/requirements.txt (line 4))\n",
      "  Using cached wheel-0.42.0-py3-none-any.whl.metadata (2.2 kB)\n",
      "Requirement already satisfied: setuptools>=41.0.0 in c:\\users\\2295883\\appdata\\local\\programs\\python\\python311\\lib\\site-packages (from tensorboard==2.15.1->-r C:/Users/2295883/Downloads/cherry-leaves-mildew-detector-project-5-main/requirements.txt (line 90)) (65.5.0)\n",
      "Using cached absl_py-2.0.0-py3-none-any.whl (130 kB)\n",
      "Using cached bleach-6.1.0-py3-none-any.whl (162 kB)\n",
      "Using cached contourpy-1.2.0-cp311-cp311-win_amd64.whl (187 kB)\n",
      "Using cached cycler-0.12.1-py3-none-any.whl (8.3 kB)\n",
      "Using cached flatbuffers-23.5.26-py2.py3-none-any.whl (26 kB)\n",
      "Using cached fonttools-4.47.0-cp311-cp311-win_amd64.whl (2.2 MB)\n",
      "Using cached google_auth-2.26.1-py2.py3-none-any.whl (186 kB)\n",
      "Using cached google_auth_oauthlib-1.2.0-py2.py3-none-any.whl (24 kB)\n",
      "Using cached grpcio-1.60.0-cp311-cp311-win_amd64.whl (3.7 MB)\n",
      "Using cached h5py-3.10.0-cp311-cp311-win_amd64.whl (2.7 MB)\n",
      "Using cached ipython-8.19.0-py3-none-any.whl (808 kB)\n",
      "Using cached joblib-1.3.2-py3-none-any.whl (302 kB)\n",
      "Using cached jupyter_core-5.7.0-py3-none-any.whl (28 kB)\n",
      "Using cached keras-2.15.0-py3-none-any.whl (1.7 MB)\n",
      "Using cached kiwisolver-1.4.5-cp311-cp311-win_amd64.whl (56 kB)\n",
      "Using cached libclang-16.0.6-py2.py3-none-win_amd64.whl (24.4 MB)\n",
      "Using cached Markdown-3.5.1-py3-none-any.whl (102 kB)\n",
      "Using cached matplotlib-3.8.2-cp311-cp311-win_amd64.whl (7.6 MB)\n",
      "Using cached ml_dtypes-0.2.0-cp311-cp311-win_amd64.whl (938 kB)\n",
      "Using cached plotly-5.18.0-py3-none-any.whl (15.6 MB)\n",
      "Using cached protobuf-4.23.4-cp310-abi3-win_amd64.whl (422 kB)\n",
      "Using cached pyasn1-0.5.1-py2.py3-none-any.whl (84 kB)\n",
      "Using cached pyparsing-3.1.1-py3-none-any.whl (103 kB)\n",
      "Using cached scikit_learn-1.3.2-cp311-cp311-win_amd64.whl (9.2 MB)\n",
      "Using cached scipy-1.11.4-cp311-cp311-win_amd64.whl (44.1 MB)\n",
      "Using cached seaborn-0.13.1-py3-none-any.whl (294 kB)\n",
      "Using cached tensorboard-2.15.1-py3-none-any.whl (5.5 MB)\n",
      "Using cached tensorboard_data_server-0.7.2-py3-none-any.whl (2.4 kB)\n",
      "Using cached tensorflow-2.15.0-cp311-cp311-win_amd64.whl (2.1 kB)\n",
      "Using cached tensorflow_estimator-2.15.0-py2.py3-none-any.whl (441 kB)\n",
      "Using cached tensorflow_intel-2.15.0-cp311-cp311-win_amd64.whl (300.9 MB)\n",
      "Using cached termcolor-2.4.0-py3-none-any.whl (7.7 kB)\n",
      "Using cached threadpoolctl-3.2.0-py3-none-any.whl (15 kB)\n",
      "Using cached tqdm-4.66.1-py3-none-any.whl (78 kB)\n",
      "Using cached werkzeug-3.0.1-py3-none-any.whl (226 kB)\n",
      "Using cached wrapt-1.14.1-cp311-cp311-win_amd64.whl (35 kB)\n",
      "Using cached wheel-0.42.0-py3-none-any.whl (65 kB)\n",
      "Installing collected packages: webencodings, text-unidecode, libclang, flatbuffers, wrapt, wheel, Werkzeug, tqdm, threadpoolctl, termcolor, tensorflow-io-gcs-filesystem, tensorflow-estimator, tensorboard-data-server, scipy, python-slugify, pyparsing, pyasn1, protobuf, plotly, opt-einsum, oauthlib, ml-dtypes, Markdown, kiwisolver, keras, jupyter_core, joblib, h5py, grpcio, google-pasta, gast, fonttools, cycler, contourpy, bleach, absl-py, scikit-learn, rsa, requests-oauthlib, pyasn1-modules, matplotlib, kaggle, astunparse, seaborn, ipython, google-auth, google-auth-oauthlib, tensorboard, tensorflow-intel, tensorflow\n",
      "  Attempting uninstall: protobuf\n",
      "    Found existing installation: protobuf 4.25.1\n",
      "    Uninstalling protobuf-4.25.1:\n",
      "      Successfully uninstalled protobuf-4.25.1\n",
      "  Attempting uninstall: jupyter_core\n",
      "    Found existing installation: jupyter_core 5.7.1\n",
      "    Uninstalling jupyter_core-5.7.1:\n",
      "      Successfully uninstalled jupyter_core-5.7.1\n",
      "  Attempting uninstall: ipython\n",
      "    Found existing installation: ipython 8.20.0\n",
      "    Uninstalling ipython-8.20.0:\n",
      "      Successfully uninstalled ipython-8.20.0\n",
      "Successfully installed Markdown-3.5.1 Werkzeug-3.0.1 absl-py-2.0.0 astunparse-1.6.3 bleach-6.1.0 contourpy-1.2.0 cycler-0.12.1 flatbuffers-23.5.26 fonttools-4.47.0 gast-0.5.4 google-auth-2.26.1 google-auth-oauthlib-1.2.0 google-pasta-0.2.0 grpcio-1.60.0 h5py-3.10.0 ipython-8.19.0 joblib-1.3.2 jupyter_core-5.7.0 kaggle-1.6.0 keras-2.15.0 kiwisolver-1.4.5 libclang-16.0.6 matplotlib-3.8.2 ml-dtypes-0.2.0 oauthlib-3.2.2 opt-einsum-3.3.0 plotly-5.18.0 protobuf-4.23.4 pyasn1-0.5.1 pyasn1-modules-0.3.0 pyparsing-3.1.1 python-slugify-8.0.1 requests-oauthlib-1.3.1 rsa-4.9 scikit-learn-1.3.2 scipy-1.11.4 seaborn-0.13.1 tensorboard-2.15.1 tensorboard-data-server-0.7.2 tensorflow-2.15.0 tensorflow-estimator-2.15.0 tensorflow-intel-2.15.0 tensorflow-io-gcs-filesystem-0.31.0 termcolor-2.4.0 text-unidecode-1.3 threadpoolctl-3.2.0 tqdm-4.66.1 webencodings-0.5.1 wheel-0.42.0 wrapt-1.14.1\n",
      "Note: you may need to restart the kernel to use updated packages.\n"
     ]
    },
    {
     "name": "stderr",
     "output_type": "stream",
     "text": [
      "WARNING: The candidate selected for download or install is a yanked version: 'ipython' candidate (version 8.19.0 at https://files.pythonhosted.org/packages/1d/c6/c29c0509ce3235fa392779db476396e7e5d0a9c854967fdf411f168187a5/ipython-8.19.0-py3-none-any.whl (from https://pypi.org/simple/ipython/) (requires-python:>=3.10))\n",
      "Reason for being yanked: Promt continuation function signature change breeak sagemath. See https://github.com/ipython/ipython/issues/14273\n"
     ]
    }
   ],
   "source": [
    "%pip install -r C:/Users/2295883/Downloads/cherry-leaves-mildew-detector-project-5-main/requirements.txt"
   ]
  },
  {
   "cell_type": "code",
   "execution_count": 25,
   "metadata": {},
   "outputs": [],
   "source": [
    "import os\n",
    "import numpy\n",
    "import shutil\n",
    "import random\n",
    "from pathlib import Path"
   ]
  },
  {
   "cell_type": "markdown",
   "metadata": {},
   "source": [
    "---"
   ]
  },
  {
   "cell_type": "markdown",
   "metadata": {},
   "source": [
    "## Check/Set the working directory"
   ]
  },
  {
   "cell_type": "code",
   "execution_count": 14,
   "metadata": {},
   "outputs": [
    {
     "name": "stdout",
     "output_type": "stream",
     "text": [
      "Current directory: c:\\Users\\2295883\\Downloads\\cherry-leaves-mildew-detector-project-5-main\\jupyter_notebooks\n",
      "Changed to the parent directory\n",
      "Current directory: c:\\Users\\2295883\\Downloads\\cherry-leaves-mildew-detector-project-5-main\n"
     ]
    }
   ],
   "source": [
    "current_dir = os.getcwd()\n",
    "print(f\"Current directory: {current_dir}\")\n",
    "\n",
    "# Move up one folder\n",
    "parent_dir = os.path.abspath(os.path.join(current_dir, os.pardir))\n",
    "os.chdir(parent_dir)\n",
    "\n",
    "print(\"Changed to the parent directory\")\n",
    "\n",
    "# Check the current directory again\n",
    "current_dir = os.getcwd()\n",
    "print(f\"Current directory: {current_dir}\")\n"
   ]
  },
  {
   "cell_type": "markdown",
   "metadata": {},
   "source": [
    "---"
   ]
  },
  {
   "cell_type": "markdown",
   "metadata": {},
   "source": [
    "### Install Kaggle\n",
    "* This should already be installed during the import pacakges step. If not run the below command."
   ]
  },
  {
   "cell_type": "code",
   "execution_count": 11,
   "metadata": {},
   "outputs": [
    {
     "name": "stdout",
     "output_type": "stream",
     "text": [
      "Requirement already satisfied: kaggle in c:\\users\\2295883\\appdata\\local\\programs\\python\\python311\\lib\\site-packages (1.6.0)Note: you may need to restart the kernel to use updated packages.\n",
      "\n",
      "Requirement already satisfied: six>=1.10 in c:\\users\\2295883\\appdata\\local\\programs\\python\\python311\\lib\\site-packages (from kaggle) (1.16.0)\n",
      "Requirement already satisfied: certifi in c:\\users\\2295883\\appdata\\local\\programs\\python\\python311\\lib\\site-packages (from kaggle) (2023.11.17)\n",
      "Requirement already satisfied: python-dateutil in c:\\users\\2295883\\appdata\\local\\programs\\python\\python311\\lib\\site-packages (from kaggle) (2.8.2)\n",
      "Requirement already satisfied: requests in c:\\users\\2295883\\appdata\\local\\programs\\python\\python311\\lib\\site-packages (from kaggle) (2.31.0)\n",
      "Requirement already satisfied: tqdm in c:\\users\\2295883\\appdata\\local\\programs\\python\\python311\\lib\\site-packages (from kaggle) (4.66.1)\n",
      "Requirement already satisfied: python-slugify in c:\\users\\2295883\\appdata\\local\\programs\\python\\python311\\lib\\site-packages (from kaggle) (8.0.1)\n",
      "Requirement already satisfied: urllib3 in c:\\users\\2295883\\appdata\\local\\programs\\python\\python311\\lib\\site-packages (from kaggle) (2.1.0)\n",
      "Requirement already satisfied: bleach in c:\\users\\2295883\\appdata\\local\\programs\\python\\python311\\lib\\site-packages (from kaggle) (6.1.0)\n",
      "Requirement already satisfied: webencodings in c:\\users\\2295883\\appdata\\local\\programs\\python\\python311\\lib\\site-packages (from bleach->kaggle) (0.5.1)\n",
      "Requirement already satisfied: text-unidecode>=1.3 in c:\\users\\2295883\\appdata\\local\\programs\\python\\python311\\lib\\site-packages (from python-slugify->kaggle) (1.3)\n",
      "Requirement already satisfied: charset-normalizer<4,>=2 in c:\\users\\2295883\\appdata\\local\\programs\\python\\python311\\lib\\site-packages (from requests->kaggle) (3.3.2)\n",
      "Requirement already satisfied: idna<4,>=2.5 in c:\\users\\2295883\\appdata\\local\\programs\\python\\python311\\lib\\site-packages (from requests->kaggle) (3.6)\n",
      "Requirement already satisfied: colorama in c:\\users\\2295883\\appdata\\local\\programs\\python\\python311\\lib\\site-packages (from tqdm->kaggle) (0.4.6)\n"
     ]
    }
   ],
   "source": [
    "%pip install kaggle"
   ]
  },
  {
   "cell_type": "markdown",
   "metadata": {},
   "source": [
    "### kaggle config\n",
    "\n",
    "Execute the cell below **to update the Kaggle configuration directory to the present working directory and configure permissions for the Kaggle authentication JSON**."
   ]
  },
  {
   "cell_type": "code",
   "execution_count": 29,
   "metadata": {},
   "outputs": [],
   "source": [
    "os.environ['KAGGLE_CONFIG_DIR'] = os.getcwd()"
   ]
  },
  {
   "cell_type": "markdown",
   "metadata": {},
   "source": [
    "Setting and downloading the kaggle dataset."
   ]
  },
  {
   "cell_type": "code",
   "execution_count": 22,
   "metadata": {},
   "outputs": [
    {
     "name": "stdout",
     "output_type": "stream",
     "text": [
      "Downloading cherry-leaves.zip to inputs/cherry_leaves_dataset\n",
      "... resuming from 0 bytes (57697655 bytes left) ...\n",
      "\n"
     ]
    },
    {
     "name": "stderr",
     "output_type": "stream",
     "text": [
      "\n",
      "  0%|          | 0.00/55.0M [00:00<?, ?B/s]\n",
      "  2%|▏         | 1.00M/55.0M [00:00<00:13, 4.11MB/s]\n",
      "  4%|▎         | 2.00M/55.0M [00:00<00:09, 5.93MB/s]\n",
      "  5%|▌         | 3.00M/55.0M [00:00<00:08, 6.07MB/s]\n",
      "  9%|▉         | 5.00M/55.0M [00:00<00:06, 8.70MB/s]\n",
      " 11%|█         | 6.00M/55.0M [00:00<00:05, 8.77MB/s]\n",
      " 15%|█▍        | 8.00M/55.0M [00:01<00:11, 4.19MB/s]\n",
      " 16%|█▋        | 9.00M/55.0M [00:01<00:10, 4.55MB/s]\n",
      " 20%|█▉        | 11.0M/55.0M [00:02<00:07, 6.00MB/s]\n",
      " 22%|██▏       | 12.0M/55.0M [00:03<00:24, 1.86MB/s]\n",
      " 24%|██▎       | 13.0M/55.0M [00:03<00:18, 2.33MB/s]\n",
      " 27%|██▋       | 15.0M/55.0M [00:04<00:15, 2.75MB/s]\n",
      " 29%|██▉       | 16.0M/55.0M [00:04<00:12, 3.17MB/s]\n",
      " 31%|███       | 17.0M/55.0M [00:04<00:10, 3.65MB/s]\n",
      " 35%|███▍      | 19.0M/55.0M [00:05<00:07, 5.20MB/s]\n",
      " 36%|███▋      | 20.0M/55.0M [00:05<00:06, 5.72MB/s]\n",
      " 38%|███▊      | 21.0M/55.0M [00:05<00:05, 6.10MB/s]\n",
      " 42%|████▏     | 23.0M/55.0M [00:06<00:08, 4.01MB/s]\n",
      " 44%|████▎     | 24.0M/55.0M [00:06<00:07, 4.39MB/s]\n",
      " 47%|████▋     | 26.0M/55.0M [00:06<00:05, 5.79MB/s]\n",
      " 51%|█████     | 28.0M/55.0M [00:06<00:03, 7.50MB/s]\n",
      " 53%|█████▎    | 29.0M/55.0M [00:06<00:03, 7.71MB/s]\n",
      " 56%|█████▋    | 31.0M/55.0M [00:06<00:02, 8.69MB/s]\n",
      " 60%|█████▉    | 33.0M/55.0M [00:08<00:07, 3.14MB/s]\n",
      " 62%|██████▏   | 34.0M/55.0M [00:08<00:06, 3.55MB/s]\n",
      " 65%|██████▌   | 36.0M/55.0M [00:08<00:04, 4.87MB/s]\n",
      " 69%|██████▉   | 38.0M/55.0M [00:08<00:02, 6.14MB/s]\n",
      " 73%|███████▎  | 40.0M/55.0M [00:08<00:02, 7.74MB/s]\n",
      " 76%|███████▋  | 42.0M/55.0M [00:09<00:01, 7.77MB/s]\n",
      " 80%|███████▉  | 44.0M/55.0M [00:09<00:01, 5.86MB/s]\n",
      " 84%|████████▎ | 46.0M/55.0M [00:09<00:01, 7.01MB/s]\n",
      " 87%|████████▋ | 48.0M/55.0M [00:10<00:01, 5.41MB/s]\n",
      " 91%|█████████ | 50.0M/55.0M [00:10<00:00, 6.71MB/s]\n",
      " 95%|█████████▍| 52.0M/55.0M [00:10<00:00, 7.82MB/s]\n",
      " 98%|█████████▊| 54.0M/55.0M [00:11<00:00, 4.20MB/s]\n",
      "100%|█████████▉| 55.0M/55.0M [00:11<00:00, 4.47MB/s]\n",
      "100%|██████████| 55.0M/55.0M [00:12<00:00, 4.81MB/s]\n"
     ]
    }
   ],
   "source": [
    "KaggleDatasetPath = \"codeinstitute/cherry-leaves\"\n",
    "DestinationFolder = \"inputs/cherry_leaves_dataset\"\n",
    "! kaggle datasets download -d {KaggleDatasetPath} -p {DestinationFolder}"
   ]
  },
  {
   "cell_type": "code",
   "execution_count": 26,
   "metadata": {},
   "outputs": [],
   "source": [
    "zip_file_path = os.path.join(DestinationFolder, 'cherry-leaves.zip')\n",
    "\n",
    "# Unpack zip file\n",
    "shutil.unpack_archive(zip_file_path, DestinationFolder, 'zip')\n",
    "\n",
    "# remove zip file\n",
    "os.remove(zip_file_path)\n"
   ]
  },
  {
   "cell_type": "markdown",
   "metadata": {},
   "source": [
    "---"
   ]
  },
  {
   "cell_type": "markdown",
   "metadata": {},
   "source": [
    "# Data Preparation"
   ]
  },
  {
   "cell_type": "markdown",
   "metadata": {},
   "source": [
    "### Check for and remove non-image files"
   ]
  },
  {
   "cell_type": "code",
   "execution_count": 27,
   "metadata": {},
   "outputs": [
    {
     "name": "stdout",
     "output_type": "stream",
     "text": [
      "Folder: healthy - has image file 2104\n",
      "Folder: healthy - has non-image file 0\n",
      "Folder: powdery_mildew - has image file 2104\n",
      "Folder: powdery_mildew - has non-image file 0\n"
     ]
    }
   ],
   "source": [
    "def remove_non_image_file(my_data_dir):\n",
    "    \"\"\"\n",
    "    Remove non-image files from each subfolder within a given directory.\n",
    "\n",
    "    Parameters:\n",
    "    - my_data_dir (str): The path to the main directory containing subfolders.\n",
    "\n",
    "    Pseudo-code:\n",
    "    - Iterate over each subfolder in the given directory.\n",
    "    - For each subfolder, iterate over the files and remove those not ending\n",
    "    with specified image extensions.\n",
    "    - Print the count of image and non-image files for each subfolder.\n",
    "    \"\"\"\n",
    "\n",
    "    image_extensions = ('.png', '.jpg', '.jpeg')\n",
    "\n",
    "    for folder in os.listdir(my_data_dir):\n",
    "        folder_path = os.path.join(my_data_dir, folder)\n",
    "\n",
    "        image_count = 0\n",
    "        non_image_count = 0\n",
    "\n",
    "        for given_file in os.listdir(folder_path):\n",
    "            file_location = os.path.join(folder_path, given_file)\n",
    "\n",
    "            if not given_file.lower().endswith(image_extensions):\n",
    "                os.remove(file_location)  # remove non-image file\n",
    "                non_image_count += 1\n",
    "            else:\n",
    "                image_count += 1\n",
    "\n",
    "        print(f\"Folder: {folder} - has image file {image_count}\")\n",
    "        print(f\"Folder: {folder} - has non-image file {non_image_count}\")\n",
    "\n",
    "\n",
    "remove_non_image_file('inputs/cherry_leaves_dataset/cherry-leaves')\n"
   ]
  },
  {
   "cell_type": "markdown",
   "metadata": {},
   "source": [
    "### Split train validation test set"
   ]
  },
  {
   "cell_type": "code",
   "execution_count": 28,
   "metadata": {},
   "outputs": [],
   "source": [
    "def split_train_validation_test_images(my_data_dir, train_set_ratio,\n",
    "                                       validation_set_ratio, test_set_ratio):\n",
    "    \"\"\"\n",
    "    Split the dataset into training, validation, and test sets based on the\n",
    "    given ratios.\n",
    "\n",
    "    Parameters:\n",
    "    - my_data_dir (str): The main directory containing subfolders\n",
    "    representing different classes.\n",
    "    - train_set_ratio (float): The ratio of the dataset to be used for\n",
    "    training.\n",
    "    - validation_set_ratio (float): The ratio of the dataset to be used for\n",
    "    validation.\n",
    "    - test_set_ratio (float): The ratio of the dataset to be used for testing.\n",
    "\n",
    "    Pseudo-code:\n",
    "    - Check if the sum of train_set_ratio, validation_set_ratio, and\n",
    "    test_set_ratio is equal to 1.0.\n",
    "    - Create subdirectories ('train', 'validation', 'test') for each class\n",
    "    label.\n",
    "    - Shuffle the files in each class label's directory.\n",
    "    - Move the files to the appropriate set directories based on the given\n",
    "    ratios.\n",
    "    - Remove the original class label directories.\n",
    "    \"\"\"\n",
    "\n",
    "    if not (train_set_ratio + validation_set_ratio + test_set_ratio == 1.0):\n",
    "        print(\"train_set_ratio + validation_set_ratio + \"\n",
    "              \"test_set_ratio should sum to 1.0\")\n",
    "        return\n",
    "\n",
    "    labels = [\n",
    "        label\n",
    "        for label in os.listdir(my_data_dir)\n",
    "        if os.path.isdir(os.path.join(my_data_dir, label))\n",
    "    ]\n",
    "\n",
    "    for folder in ['train', 'validation', 'test']:\n",
    "        for label in labels:\n",
    "            os.makedirs(name=os.path.join(my_data_dir,\n",
    "                        folder, label), exist_ok=True)\n",
    "\n",
    "    for label in labels:\n",
    "        files = os.listdir(os.path.join(my_data_dir, label))\n",
    "        random.shuffle(files)\n",
    "\n",
    "        train_set_files_qty = int(len(files) * train_set_ratio)\n",
    "        validation_set_files_qty = int(len(files) * validation_set_ratio)\n",
    "\n",
    "        for count, file_name in enumerate(files, start=1):\n",
    "            destination_folder = ''\n",
    "            if count <= train_set_files_qty:\n",
    "                destination_folder = 'train'\n",
    "            elif count <= (train_set_files_qty + validation_set_files_qty):\n",
    "                destination_folder = 'validation'\n",
    "            else:\n",
    "                destination_folder = 'test'\n",
    "\n",
    "            source_path = os.path.join(my_data_dir, label, file_name)\n",
    "            destination_path = os.path.join(my_data_dir,\n",
    "                                            destination_folder,\n",
    "                                            label, file_name)\n",
    "            shutil.move(source_path, destination_path)\n",
    "\n",
    "        os.rmdir(os.path.join(my_data_dir, label))\n",
    "\n",
    "\n",
    "split_train_validation_test_images('inputs/cherry_leaves_dataset'\n",
    "                                   '/cherry-leaves', 0.7, 0.15, 0.15)\n"
   ]
  }
 ],
 "metadata": {
  "interpreter": {
   "hash": "110cc1dee26208153f2972f08a2ad52b6a56238dc66d48e87fb757ef2996db56"
  },
  "kernelspec": {
   "display_name": "Python 3.8.13 64-bit ('3.8.13')",
   "language": "python",
   "name": "python3"
  },
  "language_info": {
   "codemirror_mode": {
    "name": "ipython",
    "version": 3
   },
   "file_extension": ".py",
   "mimetype": "text/x-python",
   "name": "python",
   "nbconvert_exporter": "python",
   "pygments_lexer": "ipython3",
   "version": "3.11.7"
  },
  "orig_nbformat": 4
 },
 "nbformat": 4,
 "nbformat_minor": 2
}
