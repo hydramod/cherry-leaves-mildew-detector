{
 "cells": [
  {
   "cell_type": "markdown",
   "metadata": {},
   "source": [
    "# Data Collection: Retrieve Data from Kaggle\n",
    "\n",
    "## Objectives\n",
    "\n",
    "* Retrieve data from Kaggle and preprocess it for subsequent steps.\n",
    "\n",
    "## Inputs\n",
    "\n",
    "* Kaggle JSON file - authentication token.\n",
    "\n",
    "## Outputs\n",
    "\n",
    "* Generate Dataset: `inputs/datasets/cherry_leaves_dataset`\n",
    "\n",
    "## Additional Comments | Insights | Conclusions\n",
    "\n",
    "* No further comments provided.\n",
    "---"
   ]
  },
  {
   "cell_type": "markdown",
   "metadata": {},
   "source": [
    "# Import packages"
   ]
  },
  {
   "cell_type": "code",
   "execution_count": 1,
   "metadata": {},
   "outputs": [
    {
     "name": "stdout",
     "output_type": "stream",
     "text": [
      "Defaulting to user installation because normal site-packages is not writeable\n",
      "Collecting absl-py==2.0.0\n",
      "  Using cached absl_py-2.0.0-py3-none-any.whl (130 kB)\n",
      "Collecting altair==5.2.0\n",
      "  Using cached altair-5.2.0-py3-none-any.whl (996 kB)\n",
      "Collecting astunparse==1.6.3\n",
      "  Using cached astunparse-1.6.3-py2.py3-none-any.whl (12 kB)\n",
      "Collecting attrs==23.2.0\n",
      "  Using cached attrs-23.2.0-py3-none-any.whl (60 kB)\n",
      "Collecting blinker==1.7.0\n",
      "  Using cached blinker-1.7.0-py3-none-any.whl (13 kB)\n",
      "Collecting cachetools==5.3.2\n",
      "  Using cached cachetools-5.3.2-py3-none-any.whl (9.3 kB)\n",
      "Collecting certifi==2023.11.17\n",
      "  Using cached certifi-2023.11.17-py3-none-any.whl (162 kB)\n",
      "Collecting charset-normalizer==3.3.2\n",
      "  Using cached charset_normalizer-3.3.2-cp310-cp310-manylinux_2_17_x86_64.manylinux2014_x86_64.whl (142 kB)\n",
      "Collecting click==8.1.7\n",
      "  Using cached click-8.1.7-py3-none-any.whl (97 kB)\n",
      "Collecting contourpy==1.2.0\n",
      "  Using cached contourpy-1.2.0-cp310-cp310-manylinux_2_17_x86_64.manylinux2014_x86_64.whl (310 kB)\n",
      "Collecting cycler==0.12.1\n",
      "  Using cached cycler-0.12.1-py3-none-any.whl (8.3 kB)\n",
      "Collecting flatbuffers==23.5.26\n",
      "  Using cached flatbuffers-23.5.26-py2.py3-none-any.whl (26 kB)\n",
      "Collecting fonttools==4.47.2\n",
      "  Using cached fonttools-4.47.2-cp310-cp310-manylinux_2_17_x86_64.manylinux2014_x86_64.whl (4.6 MB)\n",
      "Collecting gast==0.5.4\n",
      "  Using cached gast-0.5.4-py3-none-any.whl (19 kB)\n",
      "Collecting gitdb==4.0.11\n",
      "  Using cached gitdb-4.0.11-py3-none-any.whl (62 kB)\n",
      "Collecting GitPython==3.1.41\n",
      "  Using cached GitPython-3.1.41-py3-none-any.whl (196 kB)\n",
      "Collecting google-auth==2.26.2\n",
      "  Using cached google_auth-2.26.2-py2.py3-none-any.whl (186 kB)\n",
      "Collecting google-auth-oauthlib==1.2.0\n",
      "  Using cached google_auth_oauthlib-1.2.0-py2.py3-none-any.whl (24 kB)\n",
      "Collecting google-pasta==0.2.0\n",
      "  Using cached google_pasta-0.2.0-py3-none-any.whl (57 kB)\n",
      "Collecting grpcio==1.60.0\n",
      "  Using cached grpcio-1.60.0-cp310-cp310-manylinux_2_17_x86_64.manylinux2014_x86_64.whl (5.4 MB)\n",
      "Collecting h5py==3.10.0\n",
      "  Using cached h5py-3.10.0-cp310-cp310-manylinux_2_17_x86_64.manylinux2014_x86_64.whl (4.8 MB)\n",
      "Collecting idna==3.6\n",
      "  Using cached idna-3.6-py3-none-any.whl (61 kB)\n",
      "Collecting importlib-metadata==7.0.1\n",
      "  Using cached importlib_metadata-7.0.1-py3-none-any.whl (23 kB)\n",
      "Collecting Jinja2==3.1.3\n",
      "  Using cached Jinja2-3.1.3-py3-none-any.whl (133 kB)\n",
      "Collecting joblib==1.3.2\n",
      "  Using cached joblib-1.3.2-py3-none-any.whl (302 kB)\n",
      "Collecting jsonschema==4.20.0\n",
      "  Using cached jsonschema-4.20.0-py3-none-any.whl (84 kB)\n",
      "Collecting jsonschema-specifications==2023.12.1\n",
      "  Using cached jsonschema_specifications-2023.12.1-py3-none-any.whl (18 kB)\n",
      "Collecting keras==2.15.0\n",
      "  Using cached keras-2.15.0-py3-none-any.whl (1.7 MB)\n",
      "Collecting kiwisolver==1.4.5\n",
      "  Using cached kiwisolver-1.4.5-cp310-cp310-manylinux_2_12_x86_64.manylinux2010_x86_64.whl (1.6 MB)\n",
      "Collecting libclang==16.0.6\n",
      "  Using cached libclang-16.0.6-py2.py3-none-manylinux2010_x86_64.whl (22.9 MB)\n",
      "Collecting Markdown==3.5.2\n",
      "  Using cached Markdown-3.5.2-py3-none-any.whl (103 kB)\n",
      "Collecting markdown-it-py==3.0.0\n",
      "  Using cached markdown_it_py-3.0.0-py3-none-any.whl (87 kB)\n",
      "Collecting MarkupSafe==2.1.3\n",
      "  Using cached MarkupSafe-2.1.3-cp310-cp310-manylinux_2_17_x86_64.manylinux2014_x86_64.whl (25 kB)\n",
      "Collecting matplotlib==3.8.2\n",
      "  Using cached matplotlib-3.8.2-cp310-cp310-manylinux_2_17_x86_64.manylinux2014_x86_64.whl (11.6 MB)\n",
      "Collecting mdurl==0.1.2\n",
      "  Using cached mdurl-0.1.2-py3-none-any.whl (10.0 kB)\n",
      "Collecting ml-dtypes==0.2.0\n",
      "  Using cached ml_dtypes-0.2.0-cp310-cp310-manylinux_2_17_x86_64.manylinux2014_x86_64.whl (1.0 MB)\n",
      "Collecting numpy==1.26.3\n",
      "  Using cached numpy-1.26.3-cp310-cp310-manylinux_2_17_x86_64.manylinux2014_x86_64.whl (18.2 MB)\n",
      "Collecting oauthlib==3.2.2\n",
      "  Using cached oauthlib-3.2.2-py3-none-any.whl (151 kB)\n",
      "Collecting opt-einsum==3.3.0\n",
      "  Using cached opt_einsum-3.3.0-py3-none-any.whl (65 kB)\n",
      "Requirement already satisfied: packaging==23.2 in /workspace/.pyenv_mirror/user/current/lib/python3.10/site-packages (from -r /workspace/cherry-leaves-mildew-detector-project-5/requirements.txt (line 40)) (23.2)\n",
      "Collecting pandas==2.1.4\n",
      "  Using cached pandas-2.1.4-cp310-cp310-manylinux_2_17_x86_64.manylinux2014_x86_64.whl (12.3 MB)\n",
      "Collecting pillow==10.2.0\n",
      "  Using cached pillow-10.2.0-cp310-cp310-manylinux_2_28_x86_64.whl (4.5 MB)\n",
      "Collecting plotly==5.18.0\n",
      "  Using cached plotly-5.18.0-py3-none-any.whl (15.6 MB)\n",
      "Collecting protobuf==4.23.4\n",
      "  Using cached protobuf-4.23.4-cp37-abi3-manylinux2014_x86_64.whl (304 kB)\n",
      "Collecting pyarrow==14.0.2\n",
      "  Using cached pyarrow-14.0.2-cp310-cp310-manylinux_2_28_x86_64.whl (38.0 MB)\n",
      "Collecting pyasn1==0.5.1\n",
      "  Using cached pyasn1-0.5.1-py2.py3-none-any.whl (84 kB)\n",
      "Collecting pyasn1-modules==0.3.0\n",
      "  Using cached pyasn1_modules-0.3.0-py2.py3-none-any.whl (181 kB)\n",
      "Collecting pydeck==0.8.1b0\n",
      "  Using cached pydeck-0.8.1b0-py2.py3-none-any.whl (4.8 MB)\n",
      "Requirement already satisfied: Pygments==2.17.2 in /workspace/.pyenv_mirror/user/current/lib/python3.10/site-packages (from -r /workspace/cherry-leaves-mildew-detector-project-5/requirements.txt (line 49)) (2.17.2)\n",
      "Collecting pyparsing==3.1.1\n",
      "  Using cached pyparsing-3.1.1-py3-none-any.whl (103 kB)\n",
      "Requirement already satisfied: python-dateutil==2.8.2 in /workspace/.pyenv_mirror/user/current/lib/python3.10/site-packages (from -r /workspace/cherry-leaves-mildew-detector-project-5/requirements.txt (line 51)) (2.8.2)\n",
      "Collecting pytz==2023.3.post1\n",
      "  Using cached pytz-2023.3.post1-py2.py3-none-any.whl (502 kB)\n",
      "Collecting referencing==0.32.1\n",
      "  Using cached referencing-0.32.1-py3-none-any.whl (26 kB)\n",
      "Collecting requests==2.31.0\n",
      "  Using cached requests-2.31.0-py3-none-any.whl (62 kB)\n",
      "Collecting requests-oauthlib==1.3.1\n",
      "  Using cached requests_oauthlib-1.3.1-py2.py3-none-any.whl (23 kB)\n",
      "Collecting rich==13.7.0\n",
      "  Using cached rich-13.7.0-py3-none-any.whl (240 kB)\n",
      "Collecting rpds-py==0.16.2\n",
      "  Using cached rpds_py-0.16.2-cp310-cp310-manylinux_2_17_x86_64.manylinux2014_x86_64.whl (1.2 MB)\n",
      "Collecting rsa==4.9\n",
      "  Using cached rsa-4.9-py3-none-any.whl (34 kB)\n",
      "Collecting scikit-learn==1.3.2\n",
      "  Using cached scikit_learn-1.3.2-cp310-cp310-manylinux_2_17_x86_64.manylinux2014_x86_64.whl (10.8 MB)\n",
      "Collecting scipy==1.11.4\n",
      "  Using cached scipy-1.11.4-cp310-cp310-manylinux_2_17_x86_64.manylinux2014_x86_64.whl (36.4 MB)\n",
      "Collecting seaborn==0.13.1\n",
      "  Using cached seaborn-0.13.1-py3-none-any.whl (294 kB)\n",
      "Requirement already satisfied: six==1.16.0 in /workspace/.pyenv_mirror/user/current/lib/python3.10/site-packages (from -r /workspace/cherry-leaves-mildew-detector-project-5/requirements.txt (line 62)) (1.16.0)\n",
      "Collecting smmap==5.0.1\n",
      "  Using cached smmap-5.0.1-py3-none-any.whl (24 kB)\n",
      "Collecting streamlit==1.30.0\n",
      "  Using cached streamlit-1.30.0-py2.py3-none-any.whl (8.4 MB)\n",
      "Collecting tenacity==8.2.3\n",
      "  Using cached tenacity-8.2.3-py3-none-any.whl (24 kB)\n",
      "Collecting tensorboard==2.15.1\n",
      "  Using cached tensorboard-2.15.1-py3-none-any.whl (5.5 MB)\n",
      "Collecting tensorboard-data-server==0.7.2\n",
      "  Using cached tensorboard_data_server-0.7.2-py3-none-manylinux_2_31_x86_64.whl (6.6 MB)\n",
      "Collecting tensorflow==2.15.0.post1\n",
      "  Using cached tensorflow-2.15.0.post1-cp310-cp310-manylinux_2_17_x86_64.manylinux2014_x86_64.whl (475.2 MB)\n",
      "Collecting tensorflow-estimator==2.15.0\n",
      "  Using cached tensorflow_estimator-2.15.0-py2.py3-none-any.whl (441 kB)\n",
      "Collecting tensorflow-io-gcs-filesystem==0.35.0\n",
      "  Using cached tensorflow_io_gcs_filesystem-0.35.0-cp310-cp310-manylinux_2_17_x86_64.manylinux2014_x86_64.whl (3.2 MB)\n",
      "Collecting termcolor==2.4.0\n",
      "  Using cached termcolor-2.4.0-py3-none-any.whl (7.7 kB)\n",
      "Collecting threadpoolctl==3.2.0\n",
      "  Using cached threadpoolctl-3.2.0-py3-none-any.whl (15 kB)\n",
      "Collecting toml==0.10.2\n",
      "  Using cached toml-0.10.2-py2.py3-none-any.whl (16 kB)\n",
      "Collecting toolz==0.12.0\n",
      "  Using cached toolz-0.12.0-py3-none-any.whl (55 kB)\n",
      "Requirement already satisfied: tornado==6.4 in /workspace/.pyenv_mirror/user/current/lib/python3.10/site-packages (from -r /workspace/cherry-leaves-mildew-detector-project-5/requirements.txt (line 75)) (6.4)\n",
      "Collecting typing_extensions==4.9.0\n",
      "  Using cached typing_extensions-4.9.0-py3-none-any.whl (32 kB)\n",
      "Collecting tzdata==2023.4\n",
      "  Using cached tzdata-2023.4-py2.py3-none-any.whl (346 kB)\n",
      "Collecting tzlocal==5.2\n",
      "  Using cached tzlocal-5.2-py3-none-any.whl (17 kB)\n",
      "Collecting urllib3==2.1.0\n",
      "  Using cached urllib3-2.1.0-py3-none-any.whl (104 kB)\n",
      "Collecting validators==0.22.0\n",
      "  Using cached validators-0.22.0-py3-none-any.whl (26 kB)\n",
      "Collecting watchdog==3.0.0\n",
      "  Using cached watchdog-3.0.0-py3-none-manylinux2014_x86_64.whl (82 kB)\n",
      "Collecting Werkzeug==3.0.1\n",
      "  Using cached werkzeug-3.0.1-py3-none-any.whl (226 kB)\n",
      "Collecting wrapt==1.14.1\n",
      "  Using cached wrapt-1.14.1-cp310-cp310-manylinux_2_5_x86_64.manylinux1_x86_64.manylinux_2_17_x86_64.manylinux2014_x86_64.whl (77 kB)\n",
      "Collecting zipp==3.17.0\n",
      "  Using cached zipp-3.17.0-py3-none-any.whl (7.4 kB)\n",
      "Requirement already satisfied: wheel<1.0,>=0.23.0 in /usr/lib/python3/dist-packages (from astunparse==1.6.3->-r /workspace/cherry-leaves-mildew-detector-project-5/requirements.txt (line 3)) (0.37.1)\n",
      "Requirement already satisfied: setuptools>=41.0.0 in /usr/lib/python3/dist-packages (from tensorboard==2.15.1->-r /workspace/cherry-leaves-mildew-detector-project-5/requirements.txt (line 66)) (59.6.0)\n",
      "Installing collected packages: pytz, libclang, flatbuffers, zipp, wrapt, watchdog, validators, urllib3, tzlocal, tzdata, typing_extensions, toolz, toml, threadpoolctl, termcolor, tensorflow-io-gcs-filesystem, tensorflow-estimator, tensorboard-data-server, tenacity, smmap, rpds-py, pyparsing, pyasn1, protobuf, pillow, oauthlib, numpy, mdurl, MarkupSafe, Markdown, kiwisolver, keras, joblib, idna, grpcio, google-pasta, gast, fonttools, cycler, click, charset-normalizer, certifi, cachetools, blinker, attrs, astunparse, absl-py, Werkzeug, scipy, rsa, requests, referencing, pyasn1-modules, pyarrow, plotly, pandas, opt-einsum, ml-dtypes, markdown-it-py, Jinja2, importlib-metadata, h5py, gitdb, contourpy, scikit-learn, rich, requests-oauthlib, pydeck, matplotlib, jsonschema-specifications, google-auth, GitPython, seaborn, jsonschema, google-auth-oauthlib, tensorboard, altair, tensorflow, streamlit\n",
      "Successfully installed GitPython-3.1.41 Jinja2-3.1.3 Markdown-3.5.2 MarkupSafe-2.1.3 Werkzeug-3.0.1 absl-py-2.0.0 altair-5.2.0 astunparse-1.6.3 attrs-23.2.0 blinker-1.7.0 cachetools-5.3.2 certifi-2023.11.17 charset-normalizer-3.3.2 click-8.1.7 contourpy-1.2.0 cycler-0.12.1 flatbuffers-23.5.26 fonttools-4.47.2 gast-0.5.4 gitdb-4.0.11 google-auth-2.26.2 google-auth-oauthlib-1.2.0 google-pasta-0.2.0 grpcio-1.60.0 h5py-3.10.0 idna-3.6 importlib-metadata-7.0.1 joblib-1.3.2 jsonschema-4.20.0 jsonschema-specifications-2023.12.1 keras-2.15.0 kiwisolver-1.4.5 libclang-16.0.6 markdown-it-py-3.0.0 matplotlib-3.8.2 mdurl-0.1.2 ml-dtypes-0.2.0 numpy-1.26.3 oauthlib-3.2.2 opt-einsum-3.3.0 pandas-2.1.4 pillow-10.2.0 plotly-5.18.0 protobuf-4.23.4 pyarrow-14.0.2 pyasn1-0.5.1 pyasn1-modules-0.3.0 pydeck-0.8.1b0 pyparsing-3.1.1 pytz-2023.3.post1 referencing-0.32.1 requests-2.31.0 requests-oauthlib-1.3.1 rich-13.7.0 rpds-py-0.16.2 rsa-4.9 scikit-learn-1.3.2 scipy-1.11.4 seaborn-0.13.1 smmap-5.0.1 streamlit-1.30.0 tenacity-8.2.3 tensorboard-2.15.1 tensorboard-data-server-0.7.2 tensorflow-2.15.0.post1 tensorflow-estimator-2.15.0 tensorflow-io-gcs-filesystem-0.35.0 termcolor-2.4.0 threadpoolctl-3.2.0 toml-0.10.2 toolz-0.12.0 typing_extensions-4.9.0 tzdata-2023.4 tzlocal-5.2 urllib3-2.1.0 validators-0.22.0 watchdog-3.0.0 wrapt-1.14.1 zipp-3.17.0\n",
      "Note: you may need to restart the kernel to use updated packages.\n"
     ]
    }
   ],
   "source": [
    "%pip install -r /workspace/cherry-leaves-mildew-detector-project-5/requirements.txt"
   ]
  },
  {
   "cell_type": "code",
   "execution_count": 13,
   "metadata": {},
   "outputs": [],
   "source": [
    "import os\n",
    "import numpy\n",
    "import shutil\n",
    "import random\n",
    "from pathlib import Path"
   ]
  },
  {
   "cell_type": "markdown",
   "metadata": {},
   "source": [
    "---"
   ]
  },
  {
   "cell_type": "markdown",
   "metadata": {},
   "source": [
    "## Check/Set the working directory"
   ]
  },
  {
   "cell_type": "code",
   "execution_count": 3,
   "metadata": {},
   "outputs": [
    {
     "name": "stdout",
     "output_type": "stream",
     "text": [
      "Current directory: /workspace/cherry-leaves-mildew-detector-project-5/jupyter_notebooks\n",
      "Changed to the expected parent directory: /workspace/cherry-leaves-mildew-detector-project-5/\n",
      "Current directory: /workspace/cherry-leaves-mildew-detector-project-5\n"
     ]
    }
   ],
   "source": [
    "expected_parent_dir = (\"/workspace/cherry-leaves-mildew-detector-project-5/\")\n",
    "\n",
    "current_dir = os.getcwd()\n",
    "print(f\"Current directory: {current_dir}\")\n",
    "\n",
    "parent_basename = os.path.basename(os.path.abspath(\n",
    "    os.path.join(current_dir, os.pardir)))\n",
    "\n",
    "if parent_basename != expected_parent_dir:\n",
    "    os.chdir(expected_parent_dir)\n",
    "    print(f\"Changed to the expected parent directory: {expected_parent_dir}\")\n",
    "else:\n",
    "    print(f\"Already in the expected parent directory: {parent_basename}\")\n",
    "\n",
    "current_dir = os.getcwd()\n",
    "print(f\"Current directory: {current_dir}\")\n"
   ]
  },
  {
   "cell_type": "markdown",
   "metadata": {},
   "source": [
    "---"
   ]
  },
  {
   "cell_type": "markdown",
   "metadata": {},
   "source": [
    "### Install Kaggle\n",
    "* This should already be installed during the import pacakges step. If not run the below command."
   ]
  },
  {
   "cell_type": "code",
   "execution_count": 4,
   "metadata": {},
   "outputs": [
    {
     "name": "stdout",
     "output_type": "stream",
     "text": [
      "Defaulting to user installation because normal site-packages is not writeable\n",
      "Collecting kaggle\n",
      "  Downloading kaggle-1.6.3.tar.gz (84 kB)\n",
      "\u001b[2K     \u001b[90m━━━━━━━━━━━━━━━━━━━━━━━━━━━━━━━━━━━━━━━━\u001b[0m \u001b[32m84.5/84.5 KB\u001b[0m \u001b[31m3.5 MB/s\u001b[0m eta \u001b[36m0:00:00\u001b[0m\n",
      "\u001b[?25h  Preparing metadata (setup.py) ... \u001b[?25ldone\n",
      "\u001b[?25hCollecting bleach\n",
      "  Using cached bleach-6.1.0-py3-none-any.whl (162 kB)\n",
      "Requirement already satisfied: certifi in /workspace/.pyenv_mirror/user/current/lib/python3.10/site-packages (from kaggle) (2023.11.17)\n",
      "Requirement already satisfied: python-dateutil in /workspace/.pyenv_mirror/user/current/lib/python3.10/site-packages (from kaggle) (2.8.2)\n",
      "Collecting python-slugify\n",
      "  Using cached python_slugify-8.0.1-py2.py3-none-any.whl (9.7 kB)\n",
      "Requirement already satisfied: requests in /workspace/.pyenv_mirror/user/current/lib/python3.10/site-packages (from kaggle) (2.31.0)\n",
      "Requirement already satisfied: six>=1.10 in /workspace/.pyenv_mirror/user/current/lib/python3.10/site-packages (from kaggle) (1.16.0)\n",
      "Collecting tqdm\n",
      "  Downloading tqdm-4.66.1-py3-none-any.whl (78 kB)\n",
      "\u001b[2K     \u001b[90m━━━━━━━━━━━━━━━━━━━━━━━━━━━━━━━━━━━━━━━━\u001b[0m \u001b[32m78.3/78.3 KB\u001b[0m \u001b[31m12.4 MB/s\u001b[0m eta \u001b[36m0:00:00\u001b[0m\n",
      "\u001b[?25hRequirement already satisfied: urllib3 in /workspace/.pyenv_mirror/user/current/lib/python3.10/site-packages (from kaggle) (2.1.0)\n",
      "Collecting webencodings\n",
      "  Downloading webencodings-0.5.1-py2.py3-none-any.whl (11 kB)\n",
      "Collecting text-unidecode>=1.3\n",
      "  Downloading text_unidecode-1.3-py2.py3-none-any.whl (78 kB)\n",
      "\u001b[2K     \u001b[90m━━━━━━━━━━━━━━━━━━━━━━━━━━━━━━━━━━━━━━━━\u001b[0m \u001b[32m78.2/78.2 KB\u001b[0m \u001b[31m13.3 MB/s\u001b[0m eta \u001b[36m0:00:00\u001b[0m\n",
      "\u001b[?25hRequirement already satisfied: idna<4,>=2.5 in /workspace/.pyenv_mirror/user/current/lib/python3.10/site-packages (from requests->kaggle) (3.6)\n",
      "Requirement already satisfied: charset-normalizer<4,>=2 in /workspace/.pyenv_mirror/user/current/lib/python3.10/site-packages (from requests->kaggle) (3.3.2)\n",
      "Building wheels for collected packages: kaggle\n",
      "  Building wheel for kaggle (setup.py) ... \u001b[?25ldone\n",
      "\u001b[?25h  Created wheel for kaggle: filename=kaggle-1.6.3-py3-none-any.whl size=111938 sha256=b19b03d5e5cba9bff15ead619ee97d26656240ace4fe9ce04862b42785120787\n",
      "  Stored in directory: /workspace/.pyenv_mirror/pip_cache/wheels/84/d2/34/6916f5c78356670068af8c9c17d4fac1a38fbfb71777ec12fc\n",
      "Successfully built kaggle\n",
      "Installing collected packages: webencodings, text-unidecode, tqdm, python-slugify, bleach, kaggle\n",
      "Successfully installed bleach-6.1.0 kaggle-1.6.3 python-slugify-8.0.1 text-unidecode-1.3 tqdm-4.66.1 webencodings-0.5.1\n",
      "Note: you may need to restart the kernel to use updated packages.\n"
     ]
    }
   ],
   "source": [
    "%pip install kaggle"
   ]
  },
  {
   "cell_type": "markdown",
   "metadata": {},
   "source": [
    "### kaggle config\n",
    "\n",
    "Execute the cell below **to update the Kaggle configuration directory to the present working directory and configure permissions for the Kaggle authentication JSON**."
   ]
  },
  {
   "cell_type": "code",
   "execution_count": 14,
   "metadata": {},
   "outputs": [],
   "source": [
    "os.environ['KAGGLE_CONFIG_DIR'] = os.getcwd()\n",
    "! chmod 600 /workspace/cherry-leaves-mildew-detector-project-5/kaggle.json"
   ]
  },
  {
   "cell_type": "markdown",
   "metadata": {},
   "source": [
    "Setting and downloading the kaggle dataset."
   ]
  },
  {
   "cell_type": "code",
   "execution_count": 15,
   "metadata": {},
   "outputs": [
    {
     "name": "stdout",
     "output_type": "stream",
     "text": [
      "Downloading cherry-leaves.zip to inputs/cherry_leaves_dataset\n",
      " 98%|█████████████████████████████████████▎| 54.0M/55.0M [00:01<00:00, 50.6MB/s]\n",
      "100%|██████████████████████████████████████| 55.0M/55.0M [00:01<00:00, 36.2MB/s]\n"
     ]
    }
   ],
   "source": [
    "KaggleDatasetPath = \"codeinstitute/cherry-leaves\"\n",
    "DestinationFolder = \"inputs/cherry_leaves_dataset\"\n",
    "! kaggle datasets download -d {KaggleDatasetPath} -p {DestinationFolder}"
   ]
  },
  {
   "cell_type": "code",
   "execution_count": 16,
   "metadata": {},
   "outputs": [],
   "source": [
    "zip_file_path = os.path.join(DestinationFolder, 'cherry-leaves.zip')\n",
    "\n",
    "shutil.unpack_archive(zip_file_path, DestinationFolder, 'zip')\n",
    "\n",
    "os.remove(zip_file_path)\n"
   ]
  },
  {
   "cell_type": "markdown",
   "metadata": {},
   "source": [
    "---"
   ]
  },
  {
   "cell_type": "markdown",
   "metadata": {},
   "source": [
    "# Data Preparation"
   ]
  },
  {
   "cell_type": "markdown",
   "metadata": {},
   "source": [
    "### Check for and remove non-image files"
   ]
  },
  {
   "cell_type": "code",
   "execution_count": 17,
   "metadata": {},
   "outputs": [
    {
     "name": "stdout",
     "output_type": "stream",
     "text": [
      "Folder: test - has image file 0\n",
      "Folder: test - has non-image file 0\n",
      "Folder: train - has image file 0\n",
      "Folder: train - has non-image file 0\n",
      "Folder: validation - has image file 0\n",
      "Folder: validation - has non-image file 0\n",
      "Folder: healthy - has image file 2104\n",
      "Folder: healthy - has non-image file 0\n",
      "Folder: powdery_mildew - has image file 2104\n",
      "Folder: powdery_mildew - has non-image file 0\n"
     ]
    }
   ],
   "source": [
    "def remove_non_image_file(my_data_dir):\n",
    "    \"\"\"\n",
    "    Remove non-image files from each subfolder within a given directory.\n",
    "\n",
    "    Parameters:\n",
    "    - my_data_dir (str): The path to the main directory containing subfolders.\n",
    "\n",
    "    Pseudo-code:\n",
    "    - Iterate over each subfolder in the given directory.\n",
    "    - For each subfolder, iterate over the files and remove those not ending\n",
    "    with specified image extensions.\n",
    "    - Print the count of image and non-image files for each subfolder.\n",
    "    \"\"\"\n",
    "\n",
    "    image_extensions = ('.png', '.jpg', '.jpeg')\n",
    "\n",
    "    for folder in os.listdir(my_data_dir):\n",
    "        folder_path = os.path.join(my_data_dir, folder)\n",
    "\n",
    "        image_count = 0\n",
    "        non_image_count = 0\n",
    "\n",
    "        for given_file in os.listdir(folder_path):\n",
    "            file_location = os.path.join(folder_path, given_file)\n",
    "\n",
    "            if not given_file.lower().endswith(image_extensions):\n",
    "                if os.path.isfile(file_location):\n",
    "                    os.remove(file_location)\n",
    "                    non_image_count += 1\n",
    "                elif os.path.isdir(file_location):\n",
    "                    shutil.rmtree(file_location)\n",
    "            else:\n",
    "                image_count += 1\n",
    "\n",
    "        print(f\"Folder: {folder} - has image file {image_count}\")\n",
    "        print(f\"Folder: {folder} - has non-image file {non_image_count}\")\n",
    "\n",
    "\n",
    "remove_non_image_file('inputs/cherry_leaves_dataset/cherry-leaves')\n"
   ]
  },
  {
   "cell_type": "markdown",
   "metadata": {},
   "source": [
    "### Split train validation test set"
   ]
  },
  {
   "cell_type": "code",
   "execution_count": 19,
   "metadata": {},
   "outputs": [],
   "source": [
    "def split_train_validation_test_images(my_data_dir, train_set_ratio,\n",
    "                                       validation_set_ratio, test_set_ratio):\n",
    "    \"\"\"\n",
    "    Split the dataset into training, validation, and test sets based on the\n",
    "    given ratios.\n",
    "\n",
    "    Parameters:\n",
    "    - my_data_dir (str): The main directory containing subfolders\n",
    "    representing different classes.\n",
    "    - train_set_ratio (float): The ratio of the dataset to be used for\n",
    "    training.\n",
    "    - validation_set_ratio (float): The ratio of the dataset to be used for\n",
    "    validation.\n",
    "    - test_set_ratio (float): The ratio of the dataset to be used for testing.\n",
    "\n",
    "    Pseudo-code:\n",
    "    - Check if the sum of train_set_ratio, validation_set_ratio, and\n",
    "    test_set_ratio is equal to 1.0.\n",
    "    - Create subdirectories ('train', 'validation', 'test') for each class\n",
    "    label.\n",
    "    - Shuffle the files in each class label's directory.\n",
    "    - Move the files to the appropriate set directories based on the given\n",
    "    ratios.\n",
    "    - Remove the original class label directories.\n",
    "    \"\"\"\n",
    "\n",
    "    if not (train_set_ratio + validation_set_ratio + test_set_ratio == 1.0):\n",
    "        print(\"train_set_ratio + validation_set_ratio + \"\n",
    "              \"test_set_ratio should sum to 1.0\")\n",
    "        return\n",
    "\n",
    "    labels = [\n",
    "        label\n",
    "        for label in os.listdir(my_data_dir)\n",
    "        if os.path.isdir(os.path.join(my_data_dir, label))\n",
    "    ]\n",
    "\n",
    "    for folder in ['train', 'validation', 'test']:\n",
    "        for label in labels:\n",
    "            os.makedirs(name=os.path.join(my_data_dir,\n",
    "                        folder, label), exist_ok=True)\n",
    "\n",
    "    for label in labels:\n",
    "        files = os.listdir(os.path.join(my_data_dir, label))\n",
    "        random.shuffle(files)\n",
    "\n",
    "        train_set_files_qty = int(len(files) * train_set_ratio)\n",
    "        validation_set_files_qty = int(len(files) * validation_set_ratio)\n",
    "\n",
    "        for count, file_name in enumerate(files, start=1):\n",
    "            destination_folder = ''\n",
    "            if count <= train_set_files_qty:\n",
    "                destination_folder = 'train'\n",
    "            elif count <= (train_set_files_qty + validation_set_files_qty):\n",
    "                destination_folder = 'validation'\n",
    "            else:\n",
    "                destination_folder = 'test'\n",
    "\n",
    "            source_path = os.path.join(my_data_dir, label, file_name)\n",
    "            destination_path = os.path.join(my_data_dir,\n",
    "                                            destination_folder,\n",
    "                                            label, file_name)\n",
    "            shutil.move(source_path, destination_path)\n",
    "\n",
    "        os.rmdir(os.path.join(my_data_dir, label))\n",
    "\n",
    "\n",
    "split_train_validation_test_images('inputs/cherry_leaves_dataset'\n",
    "                                   '/cherry-leaves', 0.7, 0.15, 0.15)\n"
   ]
  }
 ],
 "metadata": {
  "interpreter": {
   "hash": "110cc1dee26208153f2972f08a2ad52b6a56238dc66d48e87fb757ef2996db56"
  },
  "kernelspec": {
   "display_name": "Python 3.8.13 64-bit ('3.8.13')",
   "language": "python",
   "name": "python3"
  },
  "language_info": {
   "codemirror_mode": {
    "name": "ipython",
    "version": 3
   },
   "file_extension": ".py",
   "mimetype": "text/x-python",
   "name": "python",
   "nbconvert_exporter": "python",
   "pygments_lexer": "ipython3",
   "version": "3.10.12"
  },
  "orig_nbformat": 4
 },
 "nbformat": 4,
 "nbformat_minor": 2
}
